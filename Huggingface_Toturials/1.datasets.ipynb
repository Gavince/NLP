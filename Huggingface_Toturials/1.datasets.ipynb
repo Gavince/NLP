{
 "cells": [
  {
   "cell_type": "code",
   "execution_count": 63,
   "id": "87027ce6-e7ea-4132-bf79-7f47d0f8096f",
   "metadata": {},
   "outputs": [],
   "source": [
    "from datasets import load_dataset"
   ]
  },
  {
   "cell_type": "code",
   "execution_count": 64,
   "id": "5e93ca55-cc8c-4ef9-a4ac-88d620d23a34",
   "metadata": {},
   "outputs": [],
   "source": [
    "#!unzip ../data/drugsCom_raw.zip"
   ]
  },
  {
   "cell_type": "markdown",
   "id": "d2905473-4e6e-4d05-8175-097cb10cd1df",
   "metadata": {},
   "source": [
    "## 数据的加载"
   ]
  },
  {
   "cell_type": "code",
   "execution_count": 65,
   "id": "142fed8c-d35a-4622-9abb-021bac8e05d1",
   "metadata": {},
   "outputs": [
    {
     "name": "stdout",
     "output_type": "stream",
     "text": [
      "\u001b[01;34m.\u001b[0m\n",
      "├── 0.tokenizer.ipynb\n",
      "├── 1.datasets.ipynb\n",
      "├── 2.transformer.ipynb\n",
      "├── \u001b[01;34mdata\u001b[0m\n",
      "│   ├── drugsComTest_raw.tsv\n",
      "│   └── drugsComTrain_raw.tsv\n",
      "└── \u001b[01;34mimg\u001b[0m\n",
      "\n",
      "2 directories, 5 files\n"
     ]
    }
   ],
   "source": [
    "!tree"
   ]
  },
  {
   "cell_type": "code",
   "execution_count": 66,
   "id": "44123c9b-571a-4c75-88c6-5f658e1bc2e1",
   "metadata": {},
   "outputs": [],
   "source": [
    "data_file = {\"train\": \"./data/drugsComTrain_raw.tsv\"\n",
    "             , \"test\": \"./data/drugsComTest_raw.tsv\"\n",
    "            }"
   ]
  },
  {
   "cell_type": "code",
   "execution_count": 67,
   "id": "d3ed38af-94bd-4c1e-9461-714263dd13a4",
   "metadata": {},
   "outputs": [
    {
     "data": {
      "text/plain": [
       "{'train': './data/drugsComTrain_raw.tsv',\n",
       " 'test': './data/drugsComTest_raw.tsv'}"
      ]
     },
     "execution_count": 67,
     "metadata": {},
     "output_type": "execute_result"
    }
   ],
   "source": [
    "data_file"
   ]
  },
  {
   "cell_type": "code",
   "execution_count": 68,
   "id": "a93035ca-d06c-431f-9870-f14736d46f84",
   "metadata": {},
   "outputs": [
    {
     "name": "stderr",
     "output_type": "stream",
     "text": [
      "Using custom data configuration default-ec8a77444714a9ed\n"
     ]
    },
    {
     "name": "stdout",
     "output_type": "stream",
     "text": [
      "Downloading and preparing dataset csv/default to /home/gavin/.cache/huggingface/datasets/csv/default-ec8a77444714a9ed/0.0.0/433e0ccc46f9880962cc2b12065189766fbb2bee57a221866138fb9203c83519...\n"
     ]
    },
    {
     "data": {
      "application/vnd.jupyter.widget-view+json": {
       "model_id": "5507d6c106a346d0857b21545cbe181e",
       "version_major": 2,
       "version_minor": 0
      },
      "text/plain": [
       "Downloading data files:   0%|          | 0/2 [00:00<?, ?it/s]"
      ]
     },
     "metadata": {},
     "output_type": "display_data"
    },
    {
     "data": {
      "application/vnd.jupyter.widget-view+json": {
       "model_id": "10a4d3c0c7b643b68e06fa8afdf83b63",
       "version_major": 2,
       "version_minor": 0
      },
      "text/plain": [
       "Extracting data files:   0%|          | 0/2 [00:00<?, ?it/s]"
      ]
     },
     "metadata": {},
     "output_type": "display_data"
    },
    {
     "name": "stderr",
     "output_type": "stream",
     "text": [
      "/home/gavin/anaconda3/lib/python3.8/site-packages/datasets/packaged_modules/csv/csv.py:154: FutureWarning: the 'mangle_dupe_cols' keyword is deprecated and will be removed in a future version. Please take steps to stop the use of 'mangle_dupe_cols'\n",
      "  csv_file_reader = pd.read_csv(file, iterator=True, dtype=dtype, **self.config.read_csv_kwargs)\n",
      "/home/gavin/anaconda3/lib/python3.8/site-packages/datasets/packaged_modules/csv/csv.py:154: FutureWarning: the 'mangle_dupe_cols' keyword is deprecated and will be removed in a future version. Please take steps to stop the use of 'mangle_dupe_cols'\n",
      "  csv_file_reader = pd.read_csv(file, iterator=True, dtype=dtype, **self.config.read_csv_kwargs)\n"
     ]
    },
    {
     "name": "stdout",
     "output_type": "stream",
     "text": [
      "Dataset csv downloaded and prepared to /home/gavin/.cache/huggingface/datasets/csv/default-ec8a77444714a9ed/0.0.0/433e0ccc46f9880962cc2b12065189766fbb2bee57a221866138fb9203c83519. Subsequent calls will reuse this data.\n"
     ]
    },
    {
     "data": {
      "application/vnd.jupyter.widget-view+json": {
       "model_id": "d0133902349c4eeaa7808253099a0cb7",
       "version_major": 2,
       "version_minor": 0
      },
      "text/plain": [
       "  0%|          | 0/2 [00:00<?, ?it/s]"
      ]
     },
     "metadata": {},
     "output_type": "display_data"
    }
   ],
   "source": [
    "# 加载数据集\n",
    "squad_it_dataset = load_dataset(\"csv\", data_files=data_file, delimiter=\"\\t\")"
   ]
  },
  {
   "cell_type": "code",
   "execution_count": 69,
   "id": "3aa25496-5817-4ace-be6b-7e2123cb50bd",
   "metadata": {},
   "outputs": [
    {
     "data": {
      "text/plain": [
       "DatasetDict({\n",
       "    train: Dataset({\n",
       "        features: ['Unnamed: 0', 'drugName', 'condition', 'review', 'rating', 'date', 'usefulCount'],\n",
       "        num_rows: 161297\n",
       "    })\n",
       "    test: Dataset({\n",
       "        features: ['Unnamed: 0', 'drugName', 'condition', 'review', 'rating', 'date', 'usefulCount'],\n",
       "        num_rows: 53766\n",
       "    })\n",
       "})"
      ]
     },
     "execution_count": 69,
     "metadata": {},
     "output_type": "execute_result"
    }
   ],
   "source": [
    "# 获取一个Dataset_Dict\n",
    "squad_it_dataset"
   ]
  },
  {
   "cell_type": "code",
   "execution_count": 70,
   "id": "84cd5bdd-214a-44d3-b3af-1cbf99d70f45",
   "metadata": {},
   "outputs": [
    {
     "data": {
      "text/plain": [
       "Dataset({\n",
       "    features: ['Unnamed: 0', 'drugName', 'condition', 'review', 'rating', 'date', 'usefulCount'],\n",
       "    num_rows: 161297\n",
       "})"
      ]
     },
     "execution_count": 70,
     "metadata": {},
     "output_type": "execute_result"
    }
   ],
   "source": [
    "# 获取训练数据\n",
    "train_data = squad_it_dataset[\"train\"]\n",
    "train_data"
   ]
  },
  {
   "cell_type": "markdown",
   "id": "73cad4c3-74ef-4f0d-a2b7-289a6725abca",
   "metadata": {},
   "source": [
    "## 数据预处理"
   ]
  },
  {
   "cell_type": "code",
   "execution_count": 71,
   "id": "8433d440-6cf6-45d2-9b2a-c3c26b02cda9",
   "metadata": {},
   "outputs": [],
   "source": [
    "# shuffle数据， 完成随机选择\n",
    "train_sample = train_data.shuffle(seed=100).select(range(1000))"
   ]
  },
  {
   "cell_type": "code",
   "execution_count": 72,
   "id": "bc06d28e-61d5-46e4-ae32-07ef212cd563",
   "metadata": {},
   "outputs": [
    {
     "data": {
      "text/plain": [
       "{'Unnamed: 0': [164224, 22158, 101891],\n",
       " 'drugName': ['Xiidra', 'Baclofen', 'Terbinafine'],\n",
       " 'condition': ['Dry Eye Disease', 'Muscle Spasm', 'Onychomycosis, Toenail'],\n",
       " 'review': ['\"I have been experiencing the dry eye &amp; red eye problems for about 2yrs. I finally this year decided to go to a real eye specialist. They called in a prescription for Xiidra using a 90 day free coupon (happy) without using my health insurance as they would not cover it. I&#039;m glad to try something else besides clear eyes and or artificial drops. I use to where contacts for about 15 years and had to stop because of the dry eye problems.  Anyway I have been using Xiidra now for about 1 month and I must say the results is good. The only side effects I&#039;m having is the bad bitter taste, very light headaches periodically &amp; very mild cough here &amp; there, nothing major. I go back to see my eye specialist in July for a follow up.\"',\n",
       "  '\"I have use Baclofen for some time now but have only in the last 2 to 3 months started to have side effects  such a hallucinations, and seeing and hearing things that are not there.  I also take Requip which also give almost the same side effects.  I also take coumidin(Warfarin)\"',\n",
       "  '\"I suffered with nasty toenail fungus on both of my big toes for almost 15yrs. Both nails were thick, black and yellow and very crooked. I was ashamed and embarrassed to show my toes to anyone!! I finally decided I could no longer take the pain and suffering. It took months for me to see any change but I was determined to stick with it. I felt it was my last hope after trying so many different other cream and oils before. After about 8 months I finally saw a difference in the health of my toenails. I took the medicine for about a year before I was completely satisfied. Fortunately for me I had zero side effects at all. I am very pleased with the outcome, but you definitely have to have some patience taking this medicine.\"'],\n",
       " 'rating': [8.0, 5.0, 10.0],\n",
       " 'date': ['May 11, 2017', 'May 6, 2016', 'October 20, 2016'],\n",
       " 'usefulCount': [6, 35, 22]}"
      ]
     },
     "execution_count": 72,
     "metadata": {},
     "output_type": "execute_result"
    }
   ],
   "source": [
    "train_sample[:3]"
   ]
  },
  {
   "cell_type": "code",
   "execution_count": 73,
   "id": "d212ce35-026c-4df7-85db-d2cf508a0667",
   "metadata": {},
   "outputs": [
    {
     "data": {
      "application/vnd.jupyter.widget-view+json": {
       "model_id": "c22338a505f846c0a8e9864620e1bf44",
       "version_major": 2,
       "version_minor": 0
      },
      "text/plain": [
       "Flattening the indices:   0%|          | 0/1 [00:00<?, ?ba/s]"
      ]
     },
     "metadata": {},
     "output_type": "display_data"
    },
    {
     "data": {
      "text/plain": [
       "1000"
      ]
     },
     "execution_count": 73,
     "metadata": {},
     "output_type": "execute_result"
    }
   ],
   "source": [
    "# 唯一值\n",
    "len(train_sample.unique(\"Unnamed: 0\"))"
   ]
  },
  {
   "cell_type": "code",
   "execution_count": 74,
   "id": "3a546d21-5678-4327-9ef9-455dcf1b29e9",
   "metadata": {},
   "outputs": [],
   "source": [
    "# 修改列名字\n",
    "squad_it_dataset = squad_it_dataset.rename_column(\"Unnamed: 0\", \"uuid\")"
   ]
  },
  {
   "cell_type": "code",
   "execution_count": 75,
   "id": "add86cbc-f994-4d61-ba51-46acfccac5f3",
   "metadata": {},
   "outputs": [
    {
     "data": {
      "text/plain": [
       "DatasetDict({\n",
       "    train: Dataset({\n",
       "        features: ['uuid', 'drugName', 'condition', 'review', 'rating', 'date', 'usefulCount'],\n",
       "        num_rows: 161297\n",
       "    })\n",
       "    test: Dataset({\n",
       "        features: ['uuid', 'drugName', 'condition', 'review', 'rating', 'date', 'usefulCount'],\n",
       "        num_rows: 53766\n",
       "    })\n",
       "})"
      ]
     },
     "execution_count": 75,
     "metadata": {},
     "output_type": "execute_result"
    }
   ],
   "source": [
    "squad_it_dataset"
   ]
  },
  {
   "cell_type": "code",
   "execution_count": 79,
   "id": "640b463d-ea37-4779-8733-5b2406a0087e",
   "metadata": {},
   "outputs": [],
   "source": [
    "def lowcase_conditation(example:\"dataset\"):\n",
    "    \"\"\"转换为小写\"\"\"\n",
    "\n",
    "    return {\"condition\": example[\"condition\"].lower()}"
   ]
  },
  {
   "cell_type": "code",
   "execution_count": 80,
   "id": "feff6071-8d64-4923-8701-01c78b9092e8",
   "metadata": {},
   "outputs": [
    {
     "data": {
      "application/vnd.jupyter.widget-view+json": {
       "model_id": "fa160fef94ba4e96aa693ae97a235ddf",
       "version_major": 2,
       "version_minor": 0
      },
      "text/plain": [
       "  0%|          | 0/1 [00:00<?, ?ba/s]"
      ]
     },
     "metadata": {},
     "output_type": "display_data"
    }
   ],
   "source": [
    "train_sample = train_sample.filter(lambda x: x[\"condition\"] is not None)"
   ]
  },
  {
   "cell_type": "code",
   "execution_count": 81,
   "id": "b466229f-bcce-438c-b664-c4e26b28eae3",
   "metadata": {},
   "outputs": [],
   "source": [
    "train_sample = train_sample.rename_column(\"Unnamed: 0\", \"uuid\")"
   ]
  },
  {
   "cell_type": "code",
   "execution_count": 82,
   "id": "fab2e010-1468-4a63-85db-afa7e6ca4648",
   "metadata": {},
   "outputs": [
    {
     "data": {
      "application/vnd.jupyter.widget-view+json": {
       "model_id": "583c3785e9ce4262901f36992aab00ed",
       "version_major": 2,
       "version_minor": 0
      },
      "text/plain": [
       "  0%|          | 0/992 [00:00<?, ?ex/s]"
      ]
     },
     "metadata": {},
     "output_type": "display_data"
    }
   ],
   "source": [
    "# 映射数据，传入一个字段\n",
    "train_sample = train_sample.map(lowcase_conditation)"
   ]
  },
  {
   "cell_type": "code",
   "execution_count": 28,
   "id": "cd80bcca-b358-469d-8936-d216f5b7e12b",
   "metadata": {},
   "outputs": [
    {
     "data": {
      "text/plain": [
       "{'uuid': 22158,\n",
       " 'drugName': 'Baclofen',\n",
       " 'condition': 'muscle spasm',\n",
       " 'review': '\"I have use Baclofen for some time now but have only in the last 2 to 3 months started to have side effects  such a hallucinations, and seeing and hearing things that are not there.  I also take Requip which also give almost the same side effects.  I also take coumidin(Warfarin)\"',\n",
       " 'rating': 5.0,\n",
       " 'date': 'May 6, 2016',\n",
       " 'usefulCount': 35}"
      ]
     },
     "execution_count": 28,
     "metadata": {},
     "output_type": "execute_result"
    }
   ],
   "source": [
    "train_sample[1]"
   ]
  },
  {
   "cell_type": "code",
   "execution_count": 29,
   "id": "bdb70059-a02d-4d8a-839a-1d57f494e646",
   "metadata": {},
   "outputs": [],
   "source": [
    "def compute_review_length(example: dict):\n",
    "    \"\"\"计算文本长度\n",
    "    \"\"\"\n",
    "    \n",
    "    return {\"review_length\": len(example[\"review\"].split())}"
   ]
  },
  {
   "cell_type": "code",
   "execution_count": 83,
   "id": "93da2f93-e58f-4758-8d48-99d76d9c014d",
   "metadata": {},
   "outputs": [
    {
     "data": {
      "application/vnd.jupyter.widget-view+json": {
       "model_id": "13e8aa5dd4774e94bb484fdaa5335f65",
       "version_major": 2,
       "version_minor": 0
      },
      "text/plain": [
       "  0%|          | 0/992 [00:00<?, ?ex/s]"
      ]
     },
     "metadata": {},
     "output_type": "display_data"
    }
   ],
   "source": [
    "# 创建一个新的列\n",
    "# 如果返回的未在字典中，则进行修改\n",
    "train_sample = train_sample.map(compute_review_length)"
   ]
  },
  {
   "cell_type": "code",
   "execution_count": 85,
   "id": "7a5bcf1a-2a18-46a6-a495-9c265496863c",
   "metadata": {},
   "outputs": [
    {
     "data": {
      "text/plain": [
       "{'uuid': 164224,\n",
       " 'drugName': 'Xiidra',\n",
       " 'condition': 'dry eye disease',\n",
       " 'review': '\"I have been experiencing the dry eye &amp; red eye problems for about 2yrs. I finally this year decided to go to a real eye specialist. They called in a prescription for Xiidra using a 90 day free coupon (happy) without using my health insurance as they would not cover it. I&#039;m glad to try something else besides clear eyes and or artificial drops. I use to where contacts for about 15 years and had to stop because of the dry eye problems.  Anyway I have been using Xiidra now for about 1 month and I must say the results is good. The only side effects I&#039;m having is the bad bitter taste, very light headaches periodically &amp; very mild cough here &amp; there, nothing major. I go back to see my eye specialist in July for a follow up.\"',\n",
       " 'rating': 8.0,\n",
       " 'date': 'May 11, 2017',\n",
       " 'usefulCount': 6,\n",
       " 'review_length': 140}"
      ]
     },
     "execution_count": 85,
     "metadata": {},
     "output_type": "execute_result"
    }
   ],
   "source": [
    "# 新增一列数据\n",
    "train_sample[0]"
   ]
  },
  {
   "cell_type": "code",
   "execution_count": 89,
   "id": "beb8796d-48f3-419f-9f18-cea09acaf800",
   "metadata": {},
   "outputs": [
    {
     "data": {
      "text/plain": [
       "{'uuid': [156055, 80431, 82710, 181107],\n",
       " 'drugName': ['Cialis', 'Aleve', 'Paxil', 'Dramamine'],\n",
       " 'condition': ['erectile dysfunction',\n",
       "  'pain',\n",
       "  'panic disorde',\n",
       "  'motion sickness'],\n",
       " 'review': ['\"Wonderful\"',\n",
       "  '\"Works well.\"',\n",
       "  '\"Lifesaver drug!!!\"',\n",
       "  '\"Chapped hands\"'],\n",
       " 'rating': [10.0, 10.0, 10.0, 10.0],\n",
       " 'date': ['February 2, 2014',\n",
       "  'December 3, 2008',\n",
       "  'July 2, 2017',\n",
       "  'January 6, 2014'],\n",
       " 'usefulCount': [15, 10, 5, 12],\n",
       " 'review_length': [1, 2, 2, 2]}"
      ]
     },
     "execution_count": 89,
     "metadata": {},
     "output_type": "execute_result"
    }
   ],
   "source": [
    "# 排序\n",
    "train_sample = train_sample.sort(\"review_length\")\n",
    "train_sample[0: 4]"
   ]
  },
  {
   "cell_type": "code",
   "execution_count": 98,
   "id": "bf2141ca-579c-402c-917c-9e114fa8b251",
   "metadata": {},
   "outputs": [],
   "source": [
    "# map操作"
   ]
  },
  {
   "cell_type": "code",
   "execution_count": 115,
   "id": "96b007c9-8ed4-4e28-ac27-a8766b0ffb7d",
   "metadata": {},
   "outputs": [],
   "source": [
    "import html"
   ]
  },
  {
   "cell_type": "code",
   "execution_count": 116,
   "id": "5fdf8f89-25e8-41ed-981c-a3002f99087d",
   "metadata": {},
   "outputs": [
    {
     "data": {
      "text/plain": [
       "\"I'm a transformer called BERT\""
      ]
     },
     "execution_count": 116,
     "metadata": {},
     "output_type": "execute_result"
    }
   ],
   "source": [
    "text = \"I&#039;m a transformer called BERT\"\n",
    "html.unescape(text)"
   ]
  },
  {
   "cell_type": "code",
   "execution_count": 117,
   "id": "ab561174-55f5-4c1c-9abe-f02a31580d69",
   "metadata": {},
   "outputs": [
    {
     "data": {
      "text/plain": [
       "DatasetDict({\n",
       "    train: Dataset({\n",
       "        features: ['uuid', 'drugName', 'condition', 'review', 'rating', 'date', 'usefulCount'],\n",
       "        num_rows: 161297\n",
       "    })\n",
       "    test: Dataset({\n",
       "        features: ['uuid', 'drugName', 'condition', 'review', 'rating', 'date', 'usefulCount'],\n",
       "        num_rows: 53766\n",
       "    })\n",
       "})"
      ]
     },
     "execution_count": 117,
     "metadata": {},
     "output_type": "execute_result"
    }
   ],
   "source": [
    "squad_it_dataset"
   ]
  },
  {
   "cell_type": "code",
   "execution_count": 118,
   "id": "626247cb-61ac-4c97-96b4-4f0deffb8764",
   "metadata": {},
   "outputs": [
    {
     "name": "stderr",
     "output_type": "stream",
     "text": [
      "WARNING:datasets.arrow_dataset:Loading cached processed dataset at /home/gavin/.cache/huggingface/datasets/csv/default-ec8a77444714a9ed/0.0.0/433e0ccc46f9880962cc2b12065189766fbb2bee57a221866138fb9203c83519/cache-0dff3af07a17bf25.arrow\n",
      "WARNING:datasets.arrow_dataset:Loading cached processed dataset at /home/gavin/.cache/huggingface/datasets/csv/default-ec8a77444714a9ed/0.0.0/433e0ccc46f9880962cc2b12065189766fbb2bee57a221866138fb9203c83519/cache-c0e4a5aeed51a934.arrow\n"
     ]
    },
    {
     "data": {
      "text/plain": [
       "DatasetDict({\n",
       "    train: Dataset({\n",
       "        features: ['uuid', 'drugName', 'condition', 'review', 'rating', 'date', 'usefulCount'],\n",
       "        num_rows: 161297\n",
       "    })\n",
       "    test: Dataset({\n",
       "        features: ['uuid', 'drugName', 'condition', 'review', 'rating', 'date', 'usefulCount'],\n",
       "        num_rows: 53766\n",
       "    })\n",
       "})"
      ]
     },
     "execution_count": 118,
     "metadata": {},
     "output_type": "execute_result"
    }
   ],
   "source": [
    "# 单个处理操作\n",
    "squad_it_dataset.map(lambda x: {\"review\": html.unescape(x[\"review\"])})"
   ]
  },
  {
   "cell_type": "code",
   "execution_count": 121,
   "id": "547b4753-0452-4ba8-a4d2-99e9fb609853",
   "metadata": {},
   "outputs": [
    {
     "name": "stderr",
     "output_type": "stream",
     "text": [
      "WARNING:datasets.arrow_dataset:Loading cached processed dataset at /home/gavin/.cache/huggingface/datasets/csv/default-ec8a77444714a9ed/0.0.0/433e0ccc46f9880962cc2b12065189766fbb2bee57a221866138fb9203c83519/cache-7f0032977d78452b.arrow\n",
      "WARNING:datasets.arrow_dataset:Loading cached processed dataset at /home/gavin/.cache/huggingface/datasets/csv/default-ec8a77444714a9ed/0.0.0/433e0ccc46f9880962cc2b12065189766fbb2bee57a221866138fb9203c83519/cache-aa391435c87e0e7d.arrow\n"
     ]
    },
    {
     "data": {
      "text/plain": [
       "DatasetDict({\n",
       "    train: Dataset({\n",
       "        features: ['uuid', 'drugName', 'condition', 'review', 'rating', 'date', 'usefulCount'],\n",
       "        num_rows: 161297\n",
       "    })\n",
       "    test: Dataset({\n",
       "        features: ['uuid', 'drugName', 'condition', 'review', 'rating', 'date', 'usefulCount'],\n",
       "        num_rows: 53766\n",
       "    })\n",
       "})"
      ]
     },
     "execution_count": 121,
     "metadata": {},
     "output_type": "execute_result"
    }
   ],
   "source": [
    "# 批量处理, 可以指定batch_size大小\n",
    "squad_it_dataset.map(lambda x: {\"review\": html.unescape(x[\"review\"])}\n",
    "                     , batched=True)"
   ]
  },
  {
   "cell_type": "code",
   "execution_count": 122,
   "id": "2a8c253b-4d2e-4d42-bd14-822fd0ec43c9",
   "metadata": {},
   "outputs": [],
   "source": [
    "from transformers import AutoTokenizer"
   ]
  },
  {
   "cell_type": "code",
   "execution_count": 142,
   "id": "ef0aaef8-f841-4f36-a4bc-0e1fdfd00482",
   "metadata": {},
   "outputs": [],
   "source": [
    "tokenizer = AutoTokenizer.from_pretrained(\"bert-base-cased\",use_fast=False)"
   ]
  },
  {
   "cell_type": "code",
   "execution_count": 143,
   "id": "5422944e-7f99-470f-8998-a90011b545b2",
   "metadata": {},
   "outputs": [],
   "source": [
    "# 批量分词操作"
   ]
  },
  {
   "cell_type": "code",
   "execution_count": 149,
   "id": "a7b2e82a-b756-4636-88f1-bf02d8262fcc",
   "metadata": {},
   "outputs": [],
   "source": [
    "def tokenize_funcation(examples):\n",
    "    \"\"\"批量分词操作\"\"\"\n",
    "    \n",
    "    return tokenizer(examples[\"review\"], truncation=True)"
   ]
  },
  {
   "cell_type": "code",
   "execution_count": 150,
   "id": "fcdcdf0b-3f2b-43af-ad1c-8d1e6f323091",
   "metadata": {},
   "outputs": [
    {
     "name": "stdout",
     "output_type": "stream",
     "text": [
      "             "
     ]
    },
    {
     "data": {
      "application/vnd.jupyter.widget-view+json": {
       "model_id": "afa5a538fdba4e8890d5d524f4de7448",
       "version_major": 2,
       "version_minor": 0
      },
      "text/plain": [
       "#0:   0%|          | 0/21 [00:00<?, ?ba/s]"
      ]
     },
     "metadata": {},
     "output_type": "display_data"
    },
    {
     "data": {
      "application/vnd.jupyter.widget-view+json": {
       "model_id": "8fe7396a525447578ca6dd977e6e3b4f",
       "version_major": 2,
       "version_minor": 0
      },
      "text/plain": [
       "#1:   0%|          | 0/21 [00:00<?, ?ba/s]"
      ]
     },
     "metadata": {},
     "output_type": "display_data"
    },
    {
     "data": {
      "application/vnd.jupyter.widget-view+json": {
       "model_id": "44db2e9611d94964ba4c1adc6f00e02b",
       "version_major": 2,
       "version_minor": 0
      },
      "text/plain": [
       "#2:   0%|          | 0/21 [00:00<?, ?ba/s]"
      ]
     },
     "metadata": {},
     "output_type": "display_data"
    },
    {
     "name": "stdout",
     "output_type": "stream",
     "text": [
      "  "
     ]
    },
    {
     "data": {
      "application/vnd.jupyter.widget-view+json": {
       "model_id": "bae6a29bd4e741f9a9b8557164f19cfb",
       "version_major": 2,
       "version_minor": 0
      },
      "text/plain": [
       "#3:   0%|          | 0/21 [00:00<?, ?ba/s]"
      ]
     },
     "metadata": {},
     "output_type": "display_data"
    },
    {
     "name": "stdout",
     "output_type": "stream",
     "text": [
      " "
     ]
    },
    {
     "data": {
      "application/vnd.jupyter.widget-view+json": {
       "model_id": "bd1584a7fef24215afc798042934fb71",
       "version_major": 2,
       "version_minor": 0
      },
      "text/plain": [
       "#4:   0%|          | 0/21 [00:00<?, ?ba/s]"
      ]
     },
     "metadata": {},
     "output_type": "display_data"
    },
    {
     "data": {
      "application/vnd.jupyter.widget-view+json": {
       "model_id": "4e8eeca8e81f402d888fab7e388a2045",
       "version_major": 2,
       "version_minor": 0
      },
      "text/plain": [
       "#5:   0%|          | 0/21 [00:00<?, ?ba/s]"
      ]
     },
     "metadata": {},
     "output_type": "display_data"
    },
    {
     "data": {
      "application/vnd.jupyter.widget-view+json": {
       "model_id": "447ff741a12e4a2c941228a20d918304",
       "version_major": 2,
       "version_minor": 0
      },
      "text/plain": [
       "#7:   0%|          | 0/21 [00:00<?, ?ba/s]"
      ]
     },
     "metadata": {},
     "output_type": "display_data"
    },
    {
     "data": {
      "application/vnd.jupyter.widget-view+json": {
       "model_id": "fc14f0033f5640b3a37bfe5ae23a19ba",
       "version_major": 2,
       "version_minor": 0
      },
      "text/plain": [
       "#6:   0%|          | 0/21 [00:00<?, ?ba/s]"
      ]
     },
     "metadata": {},
     "output_type": "display_data"
    },
    {
     "name": "stdout",
     "output_type": "stream",
     "text": [
      "            "
     ]
    },
    {
     "data": {
      "application/vnd.jupyter.widget-view+json": {
       "model_id": "c60930ddd8af4d46bf98c1d1b2fcaca1",
       "version_major": 2,
       "version_minor": 0
      },
      "text/plain": [
       "#7:   0%|          | 0/7 [00:00<?, ?ba/s]"
      ]
     },
     "metadata": {},
     "output_type": "display_data"
    },
    {
     "name": "stdout",
     "output_type": "stream",
     "text": [
      "  "
     ]
    },
    {
     "data": {
      "application/vnd.jupyter.widget-view+json": {
       "model_id": "f0bff891015744668314cf0a56b03bfd",
       "version_major": 2,
       "version_minor": 0
      },
      "text/plain": [
       "#3:   0%|          | 0/7 [00:00<?, ?ba/s]"
      ]
     },
     "metadata": {},
     "output_type": "display_data"
    },
    {
     "name": "stdout",
     "output_type": "stream",
     "text": [
      "  "
     ]
    },
    {
     "data": {
      "application/vnd.jupyter.widget-view+json": {
       "model_id": "8e983118f4a74117ab7d76a09005fbf7",
       "version_major": 2,
       "version_minor": 0
      },
      "text/plain": [
       "#2:   0%|          | 0/7 [00:00<?, ?ba/s]"
      ]
     },
     "metadata": {},
     "output_type": "display_data"
    },
    {
     "data": {
      "application/vnd.jupyter.widget-view+json": {
       "model_id": "dc65315853734349b0a5f24fb867338f",
       "version_major": 2,
       "version_minor": 0
      },
      "text/plain": [
       "#6:   0%|          | 0/7 [00:00<?, ?ba/s]"
      ]
     },
     "metadata": {},
     "output_type": "display_data"
    },
    {
     "data": {
      "application/vnd.jupyter.widget-view+json": {
       "model_id": "e93945843ee2473bbb5920939112911a",
       "version_major": 2,
       "version_minor": 0
      },
      "text/plain": [
       "#5:   0%|          | 0/7 [00:00<?, ?ba/s]"
      ]
     },
     "metadata": {},
     "output_type": "display_data"
    },
    {
     "data": {
      "application/vnd.jupyter.widget-view+json": {
       "model_id": "70115fd455794387aee598e7cf852038",
       "version_major": 2,
       "version_minor": 0
      },
      "text/plain": [
       "#0:   0%|          | 0/7 [00:00<?, ?ba/s]"
      ]
     },
     "metadata": {},
     "output_type": "display_data"
    },
    {
     "data": {
      "application/vnd.jupyter.widget-view+json": {
       "model_id": "5ab57f303fd146489f531876fca25b12",
       "version_major": 2,
       "version_minor": 0
      },
      "text/plain": [
       "#4:   0%|          | 0/7 [00:00<?, ?ba/s]"
      ]
     },
     "metadata": {},
     "output_type": "display_data"
    },
    {
     "data": {
      "application/vnd.jupyter.widget-view+json": {
       "model_id": "2f3306c4fe7046c59c18ac70e0e6be93",
       "version_major": 2,
       "version_minor": 0
      },
      "text/plain": [
       "#1:   0%|          | 0/7 [00:00<?, ?ba/s]"
      ]
     },
     "metadata": {},
     "output_type": "display_data"
    }
   ],
   "source": [
    "tokenized_dataset = squad_it_dataset.map(tokenize_funcation, batched=True, num_proc=8)"
   ]
  },
  {
   "cell_type": "code",
   "execution_count": null,
   "id": "f3b2fac9-3133-453b-9143-4b5ac5a08212",
   "metadata": {},
   "outputs": [],
   "source": [
    "tokenized_dataset[\"train\"][0]"
   ]
  },
  {
   "cell_type": "code",
   "execution_count": null,
   "id": "2b78741e-a651-4cab-9379-a7b4229121ad",
   "metadata": {},
   "outputs": [],
   "source": [
    "# 测试单条数据\n",
    "tokenizer('\"It has no side effect,\\\n",
    "            I take it in combination of Bystolic 5 Mg and Fish Oil\"'\n",
    "        , truncation=True, return_length=True, return_tensors=\"pt\", num_proc=8\n",
    "         )"
   ]
  },
  {
   "cell_type": "markdown",
   "id": "9c294ec8-9afa-4efa-8cbe-c429731f001e",
   "metadata": {},
   "source": [
    "## TODO\n",
    "1. 复习字典方法，包括默认字典"
   ]
  },
  {
   "cell_type": "code",
   "execution_count": null,
   "id": "d016bb6b-bb5e-4e2d-926a-9bd03792b08a",
   "metadata": {},
   "outputs": [],
   "source": []
  },
  {
   "cell_type": "code",
   "execution_count": null,
   "id": "0259eb35-841a-46d2-84ae-08e12522b45e",
   "metadata": {},
   "outputs": [],
   "source": []
  },
  {
   "cell_type": "code",
   "execution_count": null,
   "id": "2e0c960d-a794-460f-ac8f-ba028e1c0078",
   "metadata": {},
   "outputs": [],
   "source": []
  },
  {
   "cell_type": "code",
   "execution_count": null,
   "id": "1250bad9-5095-472e-a3ed-625b4bc85b89",
   "metadata": {},
   "outputs": [],
   "source": []
  },
  {
   "cell_type": "code",
   "execution_count": null,
   "id": "6d009fa5-792d-43a1-bb31-5852a9505809",
   "metadata": {},
   "outputs": [],
   "source": []
  }
 ],
 "metadata": {
  "kernelspec": {
   "display_name": "Python 3",
   "language": "python",
   "name": "python3"
  },
  "language_info": {
   "codemirror_mode": {
    "name": "ipython",
    "version": 3
   },
   "file_extension": ".py",
   "mimetype": "text/x-python",
   "name": "python",
   "nbconvert_exporter": "python",
   "pygments_lexer": "ipython3",
   "version": "3.8.5"
  }
 },
 "nbformat": 4,
 "nbformat_minor": 5
}
