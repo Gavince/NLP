{
 "cells": [
  {
   "cell_type": "markdown",
   "id": "a17e5fa6-9bbe-4914-95fd-20c442d881b8",
   "metadata": {},
   "source": [
    "## 如何计算掩码"
   ]
  },
  {
   "cell_type": "code",
   "execution_count": 32,
   "id": "31224036-3739-40bb-8124-cd9ebc1c2068",
   "metadata": {},
   "outputs": [],
   "source": [
    "import torch\n",
    "from d2l import torch as d2l"
   ]
  },
  {
   "cell_type": "code",
   "execution_count": 33,
   "id": "f973de95-a767-4f8b-9493-3447fd1028e1",
   "metadata": {},
   "outputs": [
    {
     "data": {
      "text/plain": [
       "tensor([[[-1.6505,  0.3739, -0.6357, -0.3697,  0.5182],\n",
       "         [ 1.2084, -0.4388,  0.3746,  0.9618,  0.9725],\n",
       "         [-0.4210, -0.3070,  0.6900,  0.3460,  0.4090],\n",
       "         [ 1.5396, -0.7668, -0.8943,  3.0501, -0.9835],\n",
       "         [-0.6998,  0.4342,  0.7782, -0.5979, -1.8385]],\n",
       "\n",
       "        [[-0.0974,  1.2385,  1.4572,  1.5535, -0.0623],\n",
       "         [ 0.1609,  0.7675,  0.2476, -2.1278, -1.8078],\n",
       "         [ 0.0401,  1.9355,  1.2094,  1.4710, -0.9409],\n",
       "         [ 1.4264,  1.0383, -0.8275, -0.5154, -0.4480],\n",
       "         [-1.0829, -0.1222,  0.9553,  0.4129,  0.5409]]])"
      ]
     },
     "execution_count": 33,
     "metadata": {},
     "output_type": "execute_result"
    }
   ],
   "source": [
    "X = torch.randn((2, 5, 5))\n",
    "X"
   ]
  },
  {
   "cell_type": "code",
   "execution_count": 34,
   "id": "362b39df-cb2f-4850-8f21-761b801ccd2d",
   "metadata": {},
   "outputs": [
    {
     "data": {
      "text/plain": [
       "tensor([[1, 2, 3, 4, 5],\n",
       "        [1, 2, 3, 4, 5]])"
      ]
     },
     "execution_count": 34,
     "metadata": {},
     "output_type": "execute_result"
    }
   ],
   "source": [
    "val_lens = torch.tensor([[1, 2, 3, 4, 5], [1, 2, 3, 4, 5]])\n",
    "val_lens"
   ]
  },
  {
   "cell_type": "code",
   "execution_count": 35,
   "id": "b85a3548-28b0-4191-99a0-87cd097ecf3a",
   "metadata": {},
   "outputs": [
    {
     "data": {
      "text/plain": [
       "tensor([1, 2, 3, 4, 5, 1, 2, 3, 4, 5])"
      ]
     },
     "execution_count": 35,
     "metadata": {},
     "output_type": "execute_result"
    }
   ],
   "source": [
    "torch.repeat_interleave(val_lens, 1)"
   ]
  },
  {
   "cell_type": "code",
   "execution_count": 36,
   "id": "2f5cf5f7-0574-4550-95b5-2a1ddecaed83",
   "metadata": {},
   "outputs": [
    {
     "data": {
      "text/plain": [
       "tensor([1, 2, 3, 4, 5, 1, 2, 3, 4, 5])"
      ]
     },
     "execution_count": 36,
     "metadata": {},
     "output_type": "execute_result"
    }
   ],
   "source": [
    "val_lens.reshape(-1)"
   ]
  },
  {
   "cell_type": "code",
   "execution_count": 39,
   "id": "79be857a-4564-4951-975b-dcd084fcffc2",
   "metadata": {},
   "outputs": [
    {
     "data": {
      "text/plain": [
       "tensor([[0., 1., 2., 3., 4.]])"
      ]
     },
     "execution_count": 39,
     "metadata": {},
     "output_type": "execute_result"
    }
   ],
   "source": [
    "torch.arange((5), dtype=torch.float32,\n",
    "                        device=X.device)[None, :]"
   ]
  },
  {
   "cell_type": "code",
   "execution_count": 38,
   "id": "f8520813-1b3a-4371-937d-01ff857114aa",
   "metadata": {},
   "outputs": [
    {
     "data": {
      "text/plain": [
       "tensor([[-1.6505,  0.3739, -0.6357, -0.3697,  0.5182],\n",
       "        [ 1.2084, -0.4388,  0.3746,  0.9618,  0.9725],\n",
       "        [-0.4210, -0.3070,  0.6900,  0.3460,  0.4090],\n",
       "        [ 1.5396, -0.7668, -0.8943,  3.0501, -0.9835],\n",
       "        [-0.6998,  0.4342,  0.7782, -0.5979, -1.8385],\n",
       "        [-0.0974,  1.2385,  1.4572,  1.5535, -0.0623],\n",
       "        [ 0.1609,  0.7675,  0.2476, -2.1278, -1.8078],\n",
       "        [ 0.0401,  1.9355,  1.2094,  1.4710, -0.9409],\n",
       "        [ 1.4264,  1.0383, -0.8275, -0.5154, -0.4480],\n",
       "        [-1.0829, -0.1222,  0.9553,  0.4129,  0.5409]])"
      ]
     },
     "execution_count": 38,
     "metadata": {},
     "output_type": "execute_result"
    }
   ],
   "source": [
    "X.reshape(-1, 5)"
   ]
  },
  {
   "cell_type": "code",
   "execution_count": 37,
   "id": "481e73c9-bc8b-4173-9af2-abd36de029b8",
   "metadata": {},
   "outputs": [
    {
     "ename": "IndexError",
     "evalue": "too many indices for tensor of dimension 2",
     "output_type": "error",
     "traceback": [
      "\u001b[0;31m---------------------------------------------------------------------------\u001b[0m",
      "\u001b[0;31mIndexError\u001b[0m                                Traceback (most recent call last)",
      "\u001b[0;32m<ipython-input-37-922aadca4295>\u001b[0m in \u001b[0;36m<module>\u001b[0;34m\u001b[0m\n\u001b[0;32m----> 1\u001b[0;31m \u001b[0md2l\u001b[0m\u001b[0;34m.\u001b[0m\u001b[0msequence_mask\u001b[0m\u001b[0;34m(\u001b[0m\u001b[0mX\u001b[0m\u001b[0;34m.\u001b[0m\u001b[0mreshape\u001b[0m\u001b[0;34m(\u001b[0m\u001b[0;34m-\u001b[0m\u001b[0;36m1\u001b[0m\u001b[0;34m,\u001b[0m \u001b[0;36m5\u001b[0m\u001b[0;34m)\u001b[0m\u001b[0;34m,\u001b[0m \u001b[0mval_lens\u001b[0m\u001b[0;34m)\u001b[0m\u001b[0;34m\u001b[0m\u001b[0;34m\u001b[0m\u001b[0m\n\u001b[0m",
      "\u001b[0;32m~/anaconda3/lib/python3.8/site-packages/d2l/torch.py\u001b[0m in \u001b[0;36msequence_mask\u001b[0;34m(X, valid_len, value)\u001b[0m\n\u001b[1;32m   1004\u001b[0m     mask = torch.arange((maxlen), dtype=torch.float32,\n\u001b[1;32m   1005\u001b[0m                         device=X.device)[None, :] < valid_len[:, None]\n\u001b[0;32m-> 1006\u001b[0;31m     \u001b[0mX\u001b[0m\u001b[0;34m[\u001b[0m\u001b[0;34m~\u001b[0m\u001b[0mmask\u001b[0m\u001b[0;34m]\u001b[0m \u001b[0;34m=\u001b[0m \u001b[0mvalue\u001b[0m\u001b[0;34m\u001b[0m\u001b[0;34m\u001b[0m\u001b[0m\n\u001b[0m\u001b[1;32m   1007\u001b[0m     \u001b[0;32mreturn\u001b[0m \u001b[0mX\u001b[0m\u001b[0;34m\u001b[0m\u001b[0;34m\u001b[0m\u001b[0m\n\u001b[1;32m   1008\u001b[0m \u001b[0;34m\u001b[0m\u001b[0m\n",
      "\u001b[0;31mIndexError\u001b[0m: too many indices for tensor of dimension 2"
     ]
    }
   ],
   "source": [
    "d2l.sequence_mask(X.reshape(-1, 5), val_lens)"
   ]
  },
  {
   "cell_type": "code",
   "execution_count": null,
   "id": "e2be9a72-2128-48f4-86c4-d5b3eb398bc7",
   "metadata": {},
   "outputs": [],
   "source": []
  },
  {
   "cell_type": "code",
   "execution_count": null,
   "id": "623f8ed1-d6cc-496c-a133-dbf3ba5f2a55",
   "metadata": {},
   "outputs": [],
   "source": []
  }
 ],
 "metadata": {
  "kernelspec": {
   "display_name": "Python 3",
   "language": "python",
   "name": "python3"
  },
  "language_info": {
   "codemirror_mode": {
    "name": "ipython",
    "version": 3
   },
   "file_extension": ".py",
   "mimetype": "text/x-python",
   "name": "python",
   "nbconvert_exporter": "python",
   "pygments_lexer": "ipython3",
   "version": "3.8.5"
  }
 },
 "nbformat": 4,
 "nbformat_minor": 5
}
